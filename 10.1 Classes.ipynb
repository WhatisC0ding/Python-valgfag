{
 "cells": [
  {
   "cell_type": "code",
   "execution_count": 1,
   "metadata": {},
   "outputs": [
    {
     "name": "stdout",
     "output_type": "stream",
     "text": [
      "666.6666666666666\n",
      "16666.666666666668\n",
      "1000.0\n",
      "58333.333333333336\n"
     ]
    }
   ],
   "source": [
    "class Pyramid:\n",
    "    def __init__(self, side, height):\n",
    "        self.side = side\n",
    "        self.height = height\n",
    "\n",
    "    def __str__(self):\n",
    "        return f'Pyramid(side={self.side}, height={self.height})'\n",
    "\n",
    "    def volume(self) -> float:\n",
    "        return self.side * self.side * self.height / 3.0\n",
    "    \n",
    "class DensPyramid(Pyramid):\n",
    "    def __init__(self, side , height, density):\n",
    "        super().__init__(side, height)\n",
    "        self.density = density\n",
    "\n",
    "    def mass(self) -> float:\n",
    "        return self.density * self.volume()\n",
    "\n",
    "\n",
    "p1 = DensPyramid(10, 20, 1.5)\n",
    "p2 = DensPyramid(25, 80, 3.5) \n",
    "\n",
    "print(p1.volume())\n",
    "print(p2.volume())\n",
    "\n",
    "print(p1.mass())\n",
    "print(p2.mass())\n",
    "\n"
   ]
  },
  {
   "cell_type": "code",
   "execution_count": 5,
   "metadata": {},
   "outputs": [],
   "source": [
    "class Person:\n",
    "    def __init__(self, name):\n",
    "        self.name = name\n",
    "    \n",
    "    def greet(self):\n",
    "        print('Hi', self.name)\n",
    "\n",
    "class Student(Person):\n",
    "    def __init__(self, name, school):\n",
    "        super().__init__(name)\n",
    "        self.school = school\n",
    "    def greet(self):\n",
    "        return f'{super().greet()} in {self.school}'\n",
    "    \n",
    "\n",
    "p1 = Person('Kurt')\n",
    "\n",
    "s2 = Student('Lise', 'Hillerød')"
   ]
  }
 ],
 "metadata": {
  "kernelspec": {
   "display_name": "Python 3.10.7 64-bit (microsoft store)",
   "language": "python",
   "name": "python3"
  },
  "language_info": {
   "codemirror_mode": {
    "name": "ipython",
    "version": 3
   },
   "file_extension": ".py",
   "mimetype": "text/x-python",
   "name": "python",
   "nbconvert_exporter": "python",
   "pygments_lexer": "ipython3",
   "version": "3.10.7"
  },
  "orig_nbformat": 4,
  "vscode": {
   "interpreter": {
    "hash": "b91a4ebecf888e385640dc72091d7799c60f531adf494a45587fe0bb62283323"
   }
  }
 },
 "nbformat": 4,
 "nbformat_minor": 2
}
