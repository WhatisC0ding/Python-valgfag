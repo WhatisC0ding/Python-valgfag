{
 "cells": [
  {
   "cell_type": "code",
   "execution_count": 1,
   "metadata": {},
   "outputs": [
    {
     "name": "stdout",
     "output_type": "stream",
     "text": [
      "Ooops2! division by zero\n",
      "Jeg er her altid\n"
     ]
    }
   ],
   "source": [
    "\"\"\"Errors i python er exceptions.\n",
    "\"\"\"\n",
    "\n",
    "a = 1\n",
    "b = 0\n",
    "\n",
    "try:\n",
    "    a/b\n",
    "#Altid sæt den mere specifikke error exception først\n",
    "except ZeroDivisionError as zde:\n",
    "    print('Ooops2!', zde)\n",
    "except Exception as e:\n",
    "    print('Ooops1!', e)\n",
    "#den vil altid komme til 'finally' lige meget om koden virker eller ikke\n",
    "finally: \n",
    "    print('Jeg er her altid')"
   ]
  }
 ],
 "metadata": {
  "kernelspec": {
   "display_name": "Python 3.10.7 64-bit (microsoft store)",
   "language": "python",
   "name": "python3"
  },
  "language_info": {
   "codemirror_mode": {
    "name": "ipython",
    "version": 3
   },
   "file_extension": ".py",
   "mimetype": "text/x-python",
   "name": "python",
   "nbconvert_exporter": "python",
   "pygments_lexer": "ipython3",
   "version": "3.10.7"
  },
  "orig_nbformat": 4,
  "vscode": {
   "interpreter": {
    "hash": "b91a4ebecf888e385640dc72091d7799c60f531adf494a45587fe0bb62283323"
   }
  }
 },
 "nbformat": 4,
 "nbformat_minor": 2
}
