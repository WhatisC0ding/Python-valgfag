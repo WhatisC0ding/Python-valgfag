{
 "cells": [
  {
   "cell_type": "code",
   "execution_count": 39,
   "metadata": {},
   "outputs": [
    {
     "data": {
      "text/plain": [
       "False"
      ]
     },
     "execution_count": 39,
     "metadata": {},
     "output_type": "execute_result"
    }
   ],
   "source": [
    "def LightsOn( biking: bool, hour: int ) -> bool:\n",
    "    if not biking:\n",
    "        return False\n",
    "    elif hour < 8 or hour > 18\n",
    "        return True\n",
    "    else:\n",
    "        return False\n",
    "\n",
    "LightsOn(True, 10)\n",
    "\n",
    "\"\"\"Simple metode\"\"\"\n"
   ]
  },
  {
   "cell_type": "code",
   "execution_count": 44,
   "metadata": {},
   "outputs": [],
   "source": [
    "def Lightson(biking: bool, hour: int) -> bool:\n",
    "    return biking and(hour < 8 or hour > 18)\n",
    "\n",
    "LightsOn(True, 7)\n",
    "\n",
    "\"\"\"Optimeret metode\"\"\""
   ]
  },
  {
   "cell_type": "code",
   "execution_count": 50,
   "metadata": {},
   "outputs": [
    {
     "name": "stdout",
     "output_type": "stream",
     "text": [
      "10\n"
     ]
    },
    {
     "data": {
      "text/plain": [
       "False"
      ]
     },
     "execution_count": 50,
     "metadata": {},
     "output_type": "execute_result"
    }
   ],
   "source": [
    "from datetime import datetime \n",
    "\n",
    "\n",
    "def LightsOn(biking: bool, hour=None) -> bool:\n",
    "    if hour is None:\n",
    "        hour = datetime.now().hour\n",
    "    print(hour)\n",
    "    return biking and (hour < 8 or hour > 18)\n",
    "\n",
    "\n",
    "LightsOn(True)\n",
    "\n",
    "\"\"\"Metode med realtime\"\"\"\n"
   ]
  }
 ],
 "metadata": {
  "kernelspec": {
   "display_name": "Python 3.10.7 64-bit (microsoft store)",
   "language": "python",
   "name": "python3"
  },
  "language_info": {
   "codemirror_mode": {
    "name": "ipython",
    "version": 3
   },
   "file_extension": ".py",
   "mimetype": "text/x-python",
   "name": "python",
   "nbconvert_exporter": "python",
   "pygments_lexer": "ipython3",
   "version": "3.10.7"
  },
  "orig_nbformat": 4,
  "vscode": {
   "interpreter": {
    "hash": "b91a4ebecf888e385640dc72091d7799c60f531adf494a45587fe0bb62283323"
   }
  }
 },
 "nbformat": 4,
 "nbformat_minor": 2
}
