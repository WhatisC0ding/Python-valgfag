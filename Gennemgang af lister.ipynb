{
 "cells": [
  {
   "cell_type": "code",
   "execution_count": 6,
   "metadata": {},
   "outputs": [
    {
     "name": "stdout",
     "output_type": "stream",
     "text": [
      "Peter Pan Jensen\n",
      "lis\n"
     ]
    },
    {
     "ename": "NameError",
     "evalue": "name 'lis' is not defined",
     "output_type": "error",
     "traceback": [
      "\u001b[1;31m---------------------------------------------------------------------------\u001b[0m",
      "\u001b[1;31mNameError\u001b[0m                                 Traceback (most recent call last)",
      "\u001b[1;32mc:\\Users\\kenny\\OneDrive - Københavns Erhvervsakademi\\Python valgfag\\SUKEA-Filer-20210903\\names.ipynb Cell 1\u001b[0m in \u001b[0;36m<cell line: 13>\u001b[1;34m()\u001b[0m\n\u001b[0;32m     <a href='vscode-notebook-cell:/c%3A/Users/kenny/OneDrive%20-%20K%C3%B8benhavns%20Erhvervsakademi/Python%20valgfag/SUKEA-Filer-20210903/names.ipynb#W0sZmlsZQ%3D%3D?line=10'>11</a>\u001b[0m name3 \u001b[39m=\u001b[39m \u001b[39m'\u001b[39m\u001b[39mlis\u001b[39m\u001b[39m'\u001b[39m\u001b[39m+\u001b[39m name[\u001b[39m1\u001b[39m:\u001b[39m0\u001b[39m]\n\u001b[0;32m     <a href='vscode-notebook-cell:/c%3A/Users/kenny/OneDrive%20-%20K%C3%B8benhavns%20Erhvervsakademi/Python%20valgfag/SUKEA-Filer-20210903/names.ipynb#W0sZmlsZQ%3D%3D?line=11'>12</a>\u001b[0m \u001b[39mprint\u001b[39m(name3)\n\u001b[1;32m---> <a href='vscode-notebook-cell:/c%3A/Users/kenny/OneDrive%20-%20K%C3%B8benhavns%20Erhvervsakademi/Python%20valgfag/SUKEA-Filer-20210903/names.ipynb#W0sZmlsZQ%3D%3D?line=12'>13</a>\u001b[0m name3 \u001b[39m=\u001b[39m\u001b[39m'\u001b[39m\u001b[39m \u001b[39m\u001b[39m'\u001b[39m\u001b[39m.\u001b[39mjoin([lis])\n",
      "\u001b[1;31mNameError\u001b[0m: name 'lis' is not defined"
     ]
    }
   ],
   "source": [
    "name = 'John Pan Jensen'\n",
    "\n",
    "#slice den første variabel på 4 index, så man kan lægge 2 strings sammen\n",
    "name2 = 'Peter' + name[4:]\n",
    "\n",
    "print(name2)\n",
    "\n",
    "#split string i variablen 'name' ved et mellemrum\n",
    "names = name.split(' ')\n",
    "\n"
   ]
  },
  {
   "cell_type": "code",
   "execution_count": 11,
   "metadata": {},
   "outputs": [
    {
     "name": "stdout",
     "output_type": "stream",
     "text": [
      "True\n"
     ]
    },
    {
     "data": {
      "text/plain": [
       "float"
      ]
     },
     "execution_count": 11,
     "metadata": {},
     "output_type": "execute_result"
    }
   ],
   "source": [
    "i = 42.4\n",
    "\n",
    "#viser om 'i' er en int eller en float\n",
    "print(isinstance(i, (int, float)))\n",
    "\n",
    "#spørger hvad for en type 'i' er \n",
    "i.__class__\n"
   ]
  },
  {
   "cell_type": "code",
   "execution_count": 13,
   "metadata": {},
   "outputs": [
    {
     "name": "stdout",
     "output_type": "stream",
     "text": [
      "jasnjsdjasdasasdasdasdadkasdasdaskdkad\n",
      "askasdkasdk\n",
      "    askdssadjask\n",
      "    kasdldmlasdm\n",
      "    askdaskakdk\n"
     ]
    }
   ],
   "source": [
    "#Laver multi line string til en lang string\n",
    "s = \"jasnjsdj\\\n",
    "asdasasdasd\\\n",
    "asdadkasd\\\n",
    "asdaskdkad\"\n",
    "\n",
    "print(s)\n",
    "\n",
    "#laver en multi line string\n",
    "s1 = \"askasdkasdk\\n\\\n",
    "    askdssadjask\\n\\\n",
    "    kasdldmlasdm\\n\\\n",
    "    askdaskakdk\"\n",
    "\n",
    "print(s1)"
   ]
  },
  {
   "cell_type": "code",
   "execution_count": 17,
   "metadata": {},
   "outputs": [
    {
     "name": "stdout",
     "output_type": "stream",
     "text": [
      "Help on function Kasper in module __main__:\n",
      "\n",
      "Kasper()\n",
      "    \"Dette er en funktion af Kasper\n",
      "    Hans IQ er 0 og hans motivation er 0\n",
      "\n"
     ]
    }
   ],
   "source": [
    "#Docstring\n",
    "#Man kan lave en docstring i funktion/class med \"\"\"\"\n",
    "#og få vist docstring med help\n",
    "def Kasper():\n",
    "    \"\"\"\"Dette er en funktion af Kasper\n",
    "        Hans IQ er 0 og hans motivation er 0\"\"\"\n",
    "\n",
    "help(Kasper)"
   ]
  },
  {
   "cell_type": "code",
   "execution_count": 18,
   "metadata": {},
   "outputs": [
    {
     "name": "stdout",
     "output_type": "stream",
     "text": [
      "[1, 2, 3]\n",
      "['Hans', 'Christian']\n",
      "([[1, 2, 3]], [['Hans', 'Christian']])\n"
     ]
    }
   ],
   "source": [
    "numbers = [1, 2, 3]\n",
    "names = ['Hans', 'Christian']\n",
    "thelist = [numbers], [names]\n",
    "\n",
    "\"\"\"append 42 i liste 0 på index 0, men i begge lister\n",
    "da man refere til en liste\"\"\"\n",
    "thelist[0][0] = 42\n",
    "print(numbers)\n",
    "print(names)\n",
    "print(thelist)\n",
    "\n"
   ]
  },
  {
   "cell_type": "code",
   "execution_count": 21,
   "metadata": {},
   "outputs": [
    {
     "name": "stdout",
     "output_type": "stream",
     "text": [
      "[1, 2, 3]\n",
      "['Hans', 'Christian']\n",
      "[[42, 2, 3], ['Hans', 'Christian']]\n"
     ]
    }
   ],
   "source": [
    "numbers = [1, 2, 3]\n",
    "names = ['Hans', 'Christian']\n",
    "thelist = [numbers.copy(), names]\n",
    "\n",
    "\"\"\"append 42 i liste 0 på index 0 men kun i 'thelist'\n",
    "da man kopiere numbers fra listen\"\"\"\n",
    "thelist[0][0] = 42\n",
    "print(numbers)\n",
    "print(names)\n",
    "print(thelist)"
   ]
  },
  {
   "cell_type": "code",
   "execution_count": 25,
   "metadata": {},
   "outputs": [
    {
     "name": "stdout",
     "output_type": "stream",
     "text": [
      "[1, 2, 3, 4, 5, 6, 7]\n",
      "[3, 4, 5, 6, 7, 8, 9]\n"
     ]
    }
   ],
   "source": [
    "l = [1,2,3,4,5,6,7]\n",
    "print(l)\n",
    "\n",
    "#laver en liste med x+2(1+2) for alle index i range 1 til 8  \n",
    "l = [x+2 for x in range(1,8)]\n",
    "print(l)\n",
    "\n",
    "\"\"\"Lister bruger fysisk hukommelse og fylder noget\n",
    "range funktionen fylder ikke noget da det regner det sammen\n",
    "hvis du bruger bløde paranteser\"\"\""
   ]
  },
  {
   "cell_type": "code",
   "execution_count": null,
   "metadata": {},
   "outputs": [],
   "source": []
  }
 ],
 "metadata": {
  "kernelspec": {
   "display_name": "Python 3.10.7 64-bit (microsoft store)",
   "language": "python",
   "name": "python3"
  },
  "language_info": {
   "codemirror_mode": {
    "name": "ipython",
    "version": 3
   },
   "file_extension": ".py",
   "mimetype": "text/x-python",
   "name": "python",
   "nbconvert_exporter": "python",
   "pygments_lexer": "ipython3",
   "version": "3.10.7"
  },
  "orig_nbformat": 4,
  "vscode": {
   "interpreter": {
    "hash": "b91a4ebecf888e385640dc72091d7799c60f531adf494a45587fe0bb62283323"
   }
  }
 },
 "nbformat": 4,
 "nbformat_minor": 2
}
