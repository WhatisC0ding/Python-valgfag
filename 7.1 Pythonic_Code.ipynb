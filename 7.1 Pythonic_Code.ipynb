{
 "cells": [
  {
   "cell_type": "code",
   "execution_count": 16,
   "metadata": {},
   "outputs": [
    {
     "name": "stdout",
     "output_type": "stream",
     "text": [
      "[42, 45, 48, 51, 54, 57, 60, 63, 66, 69, 72]\n"
     ]
    }
   ],
   "source": [
    "arr = []\n",
    "i = 0\n",
    "while i <= 10:\n",
    "    arr.append(i * 3 +42)\n",
    "    i += 1\n",
    "\n",
    "print(arr)"
   ]
  },
  {
   "cell_type": "code",
   "execution_count": 15,
   "metadata": {},
   "outputs": [
    {
     "name": "stdout",
     "output_type": "stream",
     "text": [
      "[42, 45, 48, 51, 54, 57, 60, 63, 66, 69, 72]\n"
     ]
    }
   ],
   "source": [
    "#Comphresension \n",
    "\n",
    "arr = [i * 3 + 42 for i in range(11)]\n",
    "\n",
    "print(arr)"
   ]
  }
 ],
 "metadata": {
  "kernelspec": {
   "display_name": "Python 3.10.7 64-bit (microsoft store)",
   "language": "python",
   "name": "python3"
  },
  "language_info": {
   "codemirror_mode": {
    "name": "ipython",
    "version": 3
   },
   "file_extension": ".py",
   "mimetype": "text/x-python",
   "name": "python",
   "nbconvert_exporter": "python",
   "pygments_lexer": "ipython3",
   "version": "3.10.7"
  },
  "orig_nbformat": 4,
  "vscode": {
   "interpreter": {
    "hash": "b91a4ebecf888e385640dc72091d7799c60f531adf494a45587fe0bb62283323"
   }
  }
 },
 "nbformat": 4,
 "nbformat_minor": 2
}
